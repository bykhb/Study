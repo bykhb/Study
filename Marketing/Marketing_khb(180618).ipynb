{
 "cells": [
  {
   "cell_type": "markdown",
   "metadata": {},
   "source": [
    "## Desktop 정리"
   ]
  },
  {
   "cell_type": "markdown",
   "metadata": {},
   "source": [
    "### 마케팅 분석 Tool\n",
    "\n",
    "+ 시장분석(SWOT / PEST)\n",
    "\n",
    "\n",
    "+ 3C Analysis (Company / Competitor / Customer)\n",
    "\n",
    "\n",
    "+ STP (Segmentation -> Targeting -> Positioning)\n",
    "\n",
    "    + 군집분석 : 군집들간의 거리, 군집에 쓰인 변수들의 유의수준 확인 --> 군집들간의 통계값 비교로 군집 특성 확인\n",
    "    \n",
    "    + MDS : positiong map을 구성. stress 값과 RSQ 값으로 부터 분석의 정확성을 검증 가능\n",
    "    \n",
    "    + \n",
    "    \n",
    "+ Conjoint analysis \n",
    "\n",
    "    - 소비자들이 제품을 구매할 때, 어떤 속성을 중요하게 여기는 지 확인 가능\n",
    "    \n",
    "    - \n",
    "    \n",
    "+ Strategy suggestion --> 기대효과\n",
    "\n",
    "    * Marketing MIX : 4P (Promotion / Price / Place / Product)\n",
    "    \n",
    "    * New Targeting / Positioning\n",
    "    \n",
    "    * Promotion - ATL / BTL\n",
    "\n"
   ]
  },
  {
   "cell_type": "markdown",
   "metadata": {},
   "source": [
    "### 마케팅 조사방법\n",
    "\n",
    "+ 사전조사 : 본조사를 하기전에 소수의 표본을 대상으로 예비조사 시행 --> 설문지 문항을 구성하기 위해(대인면접 / 관찰조사)\n",
    "\n",
    "+ 본조사 : 설문지조사(온라인 / 오프라인) --> 통계분석\n",
    "\n"
   ]
  },
  {
   "cell_type": "markdown",
   "metadata": {},
   "source": [
    "## CRM\n",
    "\n",
    "+ 보유 고객 관리 강화\n",
    "\n",
    "    + 고객 이탈 방지 전략 : 이탈 고객 특성 분석을 통해\n",
    "\n",
    "    + 휴면 고객 활성화\n",
    "\n",
    "    + 교차 판매 및 Up-selling --> 기존 고객의 우량화\n",
    "\n",
    "+ 고객 세분화를 통한 고객 차별화 전략\n",
    "\n",
    "    + \n",
    "    \n",
    "    + \n",
    "    \n",
    "    + \n"
   ]
  },
  {
   "cell_type": "markdown",
   "metadata": {},
   "source": [
    "## Internet Marketing\n",
    "\n",
    "+ Internet Marketing requires \n",
    "\n",
    "    + Ability to identify end-users\n",
    "    + Ability to differentiate customers based on their value and their needs\n",
    "    + Ability to interact with your customers\n",
    "    + Ability to customize your products and services based on knowledge about your customers\n",
    "    \n",
    "+ \tUnder what conditions Internet Marketing would have a greater impact…\n",
    "\n",
    "    + Product’s target segment online & customers have to physically inspect the product but the quality\n",
    "    of product is relatively homogenous.(Books, music/videos, SW)\n",
    "    \n",
    "    + Product’s target segment online & products require significant purchase consideration.(Automobile, real estate..)\n",
    "    \n",
    "    + Product’s target segment online & products are highly branded impulse goods(Fast food, tobacco, beer)\n",
    "\n",
    "\n",
    "\n",
    "\n",
    "\n",
    "\n"
   ]
  },
  {
   "cell_type": "markdown",
   "metadata": {},
   "source": [
    "### About Marketing\n",
    "\n",
    "* 마케팅의 목적\n",
    "   \n",
    "    + 소비자 설득 : 설득의 최종 목표는 소비자의 생각을 바꾸는 것을 넘어 구체적인 행동까지 이끌어 내는 것.\n",
    "    \n",
    "    + 인지적 지도 : 소비자들의 머리 속에 그려져 있는 가상의 인지적 지도 (Cognitive Map)에서 내 제품의 영역을 얼마나 많이 차지하느냐\n",
    "    하는 것. 일종의 땅따먹기.\n",
    "    \n",
    "    + **소비자 만족** : 소비자의 불만을 해소하면서 편리하고 즐겁게 상품을 구매하도록 하는 방법.\n",
    "    마케팅이 성공하려면 시장(수요)조사, 상품화 계획, 선전 및 홍보, 판매촉진 활동이 잘 이루어져야 해. \n",
    "    \n",
    "    \n",
    "* 피곤해진 마케팅 \n",
    "\n",
    "    + 피곤 : 소비자니즈를 끝없이 자극하는 수많은 광고와 판촉전략들, 지나친 생산과 그로인해 어지러운 가격 차별화 전략 및 유통체계.\n",
    "    경쟁적이고 과도한 마케팅은 소비자들에게 불필요한 욕구를 유발할 뿐만 아니라 소비자들에게 잡음과 공해, 스트레스 요인으로 작용하기도\n",
    "    한다. IT기술의 발전으로 소비자에 대한 정보획득과 관리가 수월해지면서 기업은 소비자 개개인을 대상으로 맹공격을 펼치고 있다. \n",
    "    \n",
    "    과도한 마케팅 비용은 상품 가격에 반영되어 결국 상품 가격 인상을 가져온다. 기업의 비효율적이고 적절하지 못한, 심지어 소비자를 \n",
    "    불쾌하게 하고 피곤하게 하는 마케팅 비용까지도 소비자의 주머니에서 그 비용이 충당된다.\n",
    "\n"
   ]
  },
  {
   "cell_type": "markdown",
   "metadata": {},
   "source": [
    "## Business\n",
    "\n",
    "+ Five Forces Model : 기존경쟁 / 공급자 / 수요자 / 잠재적 진입자 / 대체재\n",
    "                     산업의 수익성을 설명하기 위한 모형\n",
    "                     \n",
    "+ "
   ]
  }
 ],
 "metadata": {
  "kernelspec": {
   "display_name": "Python 3",
   "language": "python",
   "name": "python3"
  },
  "language_info": {
   "codemirror_mode": {
    "name": "ipython",
    "version": 3
   },
   "file_extension": ".py",
   "mimetype": "text/x-python",
   "name": "python",
   "nbconvert_exporter": "python",
   "pygments_lexer": "ipython3",
   "version": "3.6.3"
  }
 },
 "nbformat": 4,
 "nbformat_minor": 2
}
